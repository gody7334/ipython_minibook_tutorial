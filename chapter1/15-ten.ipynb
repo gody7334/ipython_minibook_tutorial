{
 "cells": [
  {
   "cell_type": "markdown",
   "metadata": {},
   "source": [
    "## Ten Jupyter/IPython essentials"
   ]
  },
  {
   "cell_type": "markdown",
   "metadata": {},
   "source": [
    "### Using IPython as an extended shell"
   ]
  },
  {
   "cell_type": "code",
   "execution_count": 1,
   "metadata": {
    "collapsed": false
   },
   "outputs": [
    {
     "data": {
      "text/plain": [
       "u'/ipython/minibook-2nd-code/chapter1'"
      ]
     },
     "execution_count": 1,
     "metadata": {},
     "output_type": "execute_result"
    }
   ],
   "source": [
    "%pwd"
   ]
  },
  {
   "cell_type": "code",
   "execution_count": 2,
   "metadata": {
    "collapsed": false
   },
   "outputs": [
    {
     "name": "stdout",
     "output_type": "stream",
     "text": [
      "--2016-10-19 16:41:42--  https://raw.githubusercontent.com/ipython-books/minibook-2nd-data/master/facebook.zip\n",
      "Resolving raw.githubusercontent.com (raw.githubusercontent.com)... 151.101.16.133\n",
      "Connecting to raw.githubusercontent.com (raw.githubusercontent.com)|151.101.16.133|:443... connected.\n",
      "HTTP request sent, awaiting response... 200 OK\n",
      "Length: 610785 (596K) [application/zip]\n",
      "Saving to: ‘facebook.zip’\n",
      "\n",
      "facebook.zip        100%[=====================>] 596.47K  1.24MB/s   in 0.5s   \n",
      "\n",
      "2016-10-19 16:41:42 (1.24 MB/s) - ‘facebook.zip’ saved [610785/610785]\n",
      "\n"
     ]
    }
   ],
   "source": [
    "!wget https://raw.githubusercontent.com/ipython-books/minibook-2nd-data/master/facebook.zip"
   ]
  },
  {
   "cell_type": "code",
   "execution_count": 3,
   "metadata": {
    "collapsed": false
   },
   "outputs": [
    {
     "name": "stdout",
     "output_type": "stream",
     "text": [
      "12-installation.ipynb  14-python.ipynb  facebook.zip\r\n",
      "13-nbui.ipynb          15-ten.ipynb     \u001b[0m\u001b[01;34mimages\u001b[0m/\r\n"
     ]
    }
   ],
   "source": [
    "%ls"
   ]
  },
  {
   "cell_type": "code",
   "execution_count": 4,
   "metadata": {
    "collapsed": false
   },
   "outputs": [
    {
     "name": "stdout",
     "output_type": "stream",
     "text": [
      "Archive:  facebook.zip\r\n",
      "  inflating: facebook/0.circles      \r\n",
      "  inflating: facebook/0.edges        \r\n",
      "  inflating: facebook/107.circles    \r\n",
      "  inflating: facebook/107.edges      \r\n",
      "  inflating: facebook/1684.circles   \r\n",
      "  inflating: facebook/1684.edges     \r\n",
      "  inflating: facebook/1912.circles   \r\n",
      "  inflating: facebook/1912.edges     \r\n",
      "  inflating: facebook/3437.circles   \r\n",
      "  inflating: facebook/3437.edges     \r\n",
      "  inflating: facebook/348.circles    \r\n",
      "  inflating: facebook/348.edges      \r\n",
      "  inflating: facebook/3980.circles   \r\n",
      "  inflating: facebook/3980.edges     \r\n",
      "  inflating: facebook/414.circles    \r\n",
      "  inflating: facebook/414.edges      \r\n",
      "  inflating: facebook/686.circles    \r\n",
      "  inflating: facebook/686.edges      \r\n",
      "  inflating: facebook/698.circles    \r\n",
      "  inflating: facebook/698.edges      \r\n"
     ]
    }
   ],
   "source": [
    "!unzip facebook.zip"
   ]
  },
  {
   "cell_type": "code",
   "execution_count": 5,
   "metadata": {
    "collapsed": false
   },
   "outputs": [
    {
     "name": "stdout",
     "output_type": "stream",
     "text": [
      "12-installation.ipynb  14-python.ipynb  \u001b[0m\u001b[01;34mfacebook\u001b[0m/     \u001b[01;34mimages\u001b[0m/\r\n",
      "13-nbui.ipynb          15-ten.ipynb     facebook.zip\r\n"
     ]
    }
   ],
   "source": [
    "%ls"
   ]
  },
  {
   "cell_type": "code",
   "execution_count": 6,
   "metadata": {
    "collapsed": false
   },
   "outputs": [
    {
     "name": "stdout",
     "output_type": "stream",
     "text": [
      "/ipython/minibook-2nd-code/chapter1/facebook\n"
     ]
    }
   ],
   "source": [
    "%cd facebook"
   ]
  },
  {
   "cell_type": "code",
   "execution_count": 7,
   "metadata": {
    "collapsed": true
   },
   "outputs": [],
   "source": [
    "%bookmark fbdata"
   ]
  },
  {
   "cell_type": "code",
   "execution_count": 8,
   "metadata": {
    "collapsed": false
   },
   "outputs": [
    {
     "name": "stdout",
     "output_type": "stream",
     "text": [
      "0.circles    1684.circles  3437.circles  3980.circles  686.circles\r\n",
      "0.edges      1684.edges    3437.edges    3980.edges    686.edges\r\n",
      "107.circles  1912.circles  348.circles   414.circles   698.circles\r\n",
      "107.edges    1912.edges    348.edges     414.edges     698.edges\r\n"
     ]
    }
   ],
   "source": [
    "%ls"
   ]
  },
  {
   "cell_type": "code",
   "execution_count": 9,
   "metadata": {
    "collapsed": true
   },
   "outputs": [],
   "source": [
    "files = !ls -1 -S | grep .edges"
   ]
  },
  {
   "cell_type": "code",
   "execution_count": 10,
   "metadata": {
    "collapsed": false
   },
   "outputs": [
    {
     "data": {
      "text/plain": [
       "['1912.edges',\n",
       " '107.edges',\n",
       " '1684.edges',\n",
       " '3437.edges',\n",
       " '348.edges',\n",
       " '0.edges',\n",
       " '414.edges',\n",
       " '686.edges',\n",
       " '698.edges',\n",
       " '3980.edges']"
      ]
     },
     "execution_count": 10,
     "metadata": {},
     "output_type": "execute_result"
    }
   ],
   "source": [
    "files"
   ]
  },
  {
   "cell_type": "code",
   "execution_count": 11,
   "metadata": {
    "collapsed": true
   },
   "outputs": [],
   "source": [
    "import os\n",
    "from operator import itemgetter\n",
    "# Get the name and file size of all .edges files.\n",
    "files = [(file, os.stat(file).st_size)\n",
    "         for file in os.listdir('.')\n",
    "         if file.endswith('.edges')]\n",
    "# Sort the list with the second item (file size),\n",
    "# in decreasing order.\n",
    "files = sorted(files,\n",
    "               key=itemgetter(1),\n",
    "               reverse=True)\n",
    "# Only keep the first item (file name), in the same order.\n",
    "files = [file for (file, size) in files]"
   ]
  },
  {
   "cell_type": "code",
   "execution_count": 12,
   "metadata": {
    "collapsed": false
   },
   "outputs": [
    {
     "name": "stdout",
     "output_type": "stream",
     "text": [
      "2290 2363\r\n",
      "2346 2025\r\n",
      "2140 2428\r\n",
      "2201 2506\r\n",
      "2425 2557\r\n"
     ]
    }
   ],
   "source": [
    "!head -n5 {files[0]}"
   ]
  },
  {
   "cell_type": "markdown",
   "metadata": {},
   "source": [
    "### Learning magic commands"
   ]
  },
  {
   "cell_type": "code",
   "execution_count": 13,
   "metadata": {
    "collapsed": false
   },
   "outputs": [
    {
     "data": {
      "application/json": {
       "cell": {
        "!": "OSMagics",
        "HTML": "Other",
        "SVG": "Other",
        "bash": "Other",
        "capture": "ExecutionMagics",
        "debug": "ExecutionMagics",
        "file": "Other",
        "html": "DisplayMagics",
        "javascript": "DisplayMagics",
        "js": "DisplayMagics",
        "latex": "DisplayMagics",
        "perl": "Other",
        "prun": "ExecutionMagics",
        "pypy": "Other",
        "python": "Other",
        "python2": "Other",
        "python3": "Other",
        "ruby": "Other",
        "script": "ScriptMagics",
        "sh": "Other",
        "svg": "DisplayMagics",
        "sx": "OSMagics",
        "system": "OSMagics",
        "time": "ExecutionMagics",
        "timeit": "ExecutionMagics",
        "writefile": "OSMagics"
       },
       "line": {
        "alias": "OSMagics",
        "alias_magic": "BasicMagics",
        "autocall": "AutoMagics",
        "automagic": "AutoMagics",
        "autosave": "KernelMagics",
        "bookmark": "OSMagics",
        "cat": "Other",
        "cd": "OSMagics",
        "clear": "KernelMagics",
        "colors": "BasicMagics",
        "config": "ConfigMagics",
        "connect_info": "KernelMagics",
        "cp": "Other",
        "debug": "ExecutionMagics",
        "dhist": "OSMagics",
        "dirs": "OSMagics",
        "doctest_mode": "BasicMagics",
        "ed": "Other",
        "edit": "KernelMagics",
        "env": "OSMagics",
        "gui": "BasicMagics",
        "hist": "Other",
        "history": "HistoryMagics",
        "killbgscripts": "ScriptMagics",
        "ldir": "Other",
        "less": "KernelMagics",
        "lf": "Other",
        "lk": "Other",
        "ll": "Other",
        "load": "CodeMagics",
        "load_ext": "ExtensionMagics",
        "loadpy": "CodeMagics",
        "logoff": "LoggingMagics",
        "logon": "LoggingMagics",
        "logstart": "LoggingMagics",
        "logstate": "LoggingMagics",
        "logstop": "LoggingMagics",
        "ls": "Other",
        "lsmagic": "BasicMagics",
        "lx": "Other",
        "macro": "ExecutionMagics",
        "magic": "BasicMagics",
        "man": "KernelMagics",
        "matplotlib": "PylabMagics",
        "mkdir": "Other",
        "more": "KernelMagics",
        "mv": "Other",
        "notebook": "BasicMagics",
        "page": "BasicMagics",
        "pastebin": "CodeMagics",
        "pdb": "ExecutionMagics",
        "pdef": "NamespaceMagics",
        "pdoc": "NamespaceMagics",
        "pfile": "NamespaceMagics",
        "pinfo": "NamespaceMagics",
        "pinfo2": "NamespaceMagics",
        "popd": "OSMagics",
        "pprint": "BasicMagics",
        "precision": "BasicMagics",
        "profile": "BasicMagics",
        "prun": "ExecutionMagics",
        "psearch": "NamespaceMagics",
        "psource": "NamespaceMagics",
        "pushd": "OSMagics",
        "pwd": "OSMagics",
        "pycat": "OSMagics",
        "pylab": "PylabMagics",
        "qtconsole": "KernelMagics",
        "quickref": "BasicMagics",
        "recall": "HistoryMagics",
        "rehashx": "OSMagics",
        "reload_ext": "ExtensionMagics",
        "rep": "Other",
        "rerun": "HistoryMagics",
        "reset": "NamespaceMagics",
        "reset_selective": "NamespaceMagics",
        "rm": "Other",
        "rmdir": "Other",
        "run": "ExecutionMagics",
        "save": "CodeMagics",
        "sc": "OSMagics",
        "set_env": "OSMagics",
        "store": "StoreMagics",
        "sx": "OSMagics",
        "system": "OSMagics",
        "tb": "ExecutionMagics",
        "time": "ExecutionMagics",
        "timeit": "ExecutionMagics",
        "unalias": "OSMagics",
        "unload_ext": "ExtensionMagics",
        "who": "NamespaceMagics",
        "who_ls": "NamespaceMagics",
        "whos": "NamespaceMagics",
        "xdel": "NamespaceMagics",
        "xmode": "BasicMagics"
       }
      },
      "text/plain": [
       "Available line magics:\n",
       "%alias  %alias_magic  %autocall  %automagic  %autosave  %bookmark  %cat  %cd  %clear  %colors  %config  %connect_info  %cp  %debug  %dhist  %dirs  %doctest_mode  %ed  %edit  %env  %gui  %hist  %history  %killbgscripts  %ldir  %less  %lf  %lk  %ll  %load  %load_ext  %loadpy  %logoff  %logon  %logstart  %logstate  %logstop  %ls  %lsmagic  %lx  %macro  %magic  %man  %matplotlib  %mkdir  %more  %mv  %notebook  %page  %pastebin  %pdb  %pdef  %pdoc  %pfile  %pinfo  %pinfo2  %popd  %pprint  %precision  %profile  %prun  %psearch  %psource  %pushd  %pwd  %pycat  %pylab  %qtconsole  %quickref  %recall  %rehashx  %reload_ext  %rep  %rerun  %reset  %reset_selective  %rm  %rmdir  %run  %save  %sc  %set_env  %store  %sx  %system  %tb  %time  %timeit  %unalias  %unload_ext  %who  %who_ls  %whos  %xdel  %xmode\n",
       "\n",
       "Available cell magics:\n",
       "%%!  %%HTML  %%SVG  %%bash  %%capture  %%debug  %%file  %%html  %%javascript  %%js  %%latex  %%perl  %%prun  %%pypy  %%python  %%python2  %%python3  %%ruby  %%script  %%sh  %%svg  %%sx  %%system  %%time  %%timeit  %%writefile\n",
       "\n",
       "Automagic is ON, % prefix IS NOT needed for line magics."
      ]
     },
     "execution_count": 13,
     "metadata": {},
     "output_type": "execute_result"
    }
   ],
   "source": [
    "%lsmagic"
   ]
  },
  {
   "cell_type": "code",
   "execution_count": 14,
   "metadata": {
    "collapsed": true
   },
   "outputs": [],
   "source": [
    "%history?"
   ]
  },
  {
   "cell_type": "code",
   "execution_count": 15,
   "metadata": {
    "collapsed": false
   },
   "outputs": [
    {
     "name": "stdout",
     "output_type": "stream",
     "text": [
      "files\n",
      "import os\n",
      "from operator import itemgetter\n",
      "# Get the name and file size of all .edges files.\n",
      "files = [(file, os.stat(file).st_size)\n",
      "         for file in os.listdir('.')\n",
      "         if file.endswith('.edges')]\n",
      "# Sort the list with the second item (file size),\n",
      "# in decreasing order.\n",
      "files = sorted(files,\n",
      "               key=itemgetter(1),\n",
      "               reverse=True)\n",
      "# Only keep the first item (file name), in the same order.\n",
      "files = [file for (file, size) in files]\n",
      "!head -n5 {files[0]}\n",
      "%lsmagic\n",
      "%history?\n"
     ]
    }
   ],
   "source": [
    "%history -l 5"
   ]
  },
  {
   "cell_type": "code",
   "execution_count": 16,
   "metadata": {
    "collapsed": false
   },
   "outputs": [
    {
     "data": {
      "text/plain": [
       "1440"
      ]
     },
     "execution_count": 16,
     "metadata": {},
     "output_type": "execute_result"
    }
   ],
   "source": [
    "# how many minutes in a day?\n",
    "24 * 60"
   ]
  },
  {
   "cell_type": "code",
   "execution_count": 17,
   "metadata": {
    "collapsed": false
   },
   "outputs": [
    {
     "data": {
      "text/plain": [
       "525600"
      ]
     },
     "execution_count": 17,
     "metadata": {},
     "output_type": "execute_result"
    }
   ],
   "source": [
    "# and in a year?\n",
    "_ * 365"
   ]
  },
  {
   "cell_type": "code",
   "execution_count": 18,
   "metadata": {
    "collapsed": true
   },
   "outputs": [],
   "source": [
    "%%capture output\n",
    "%ls"
   ]
  },
  {
   "cell_type": "code",
   "execution_count": 19,
   "metadata": {
    "collapsed": false
   },
   "outputs": [
    {
     "data": {
      "text/plain": [
       "u'0.circles    1684.circles  3437.circles  3980.circles  686.circles\\r\\n0.edges      1684.edges    3437.edges    3980.edges    686.edges\\r\\n107.circles  1912.circles  348.circles   414.circles   698.circles\\r\\n107.edges    1912.edges    348.edges     414.edges     698.edges\\r\\n'"
      ]
     },
     "execution_count": 19,
     "metadata": {},
     "output_type": "execute_result"
    }
   ],
   "source": [
    "output.stdout"
   ]
  },
  {
   "cell_type": "code",
   "execution_count": 20,
   "metadata": {
    "collapsed": false
   },
   "outputs": [
    {
     "name": "stdout",
     "output_type": "stream",
     "text": [
      "12-installation.ipynb\n",
      "13-nbui.ipynb\n",
      "14-python.ipynb\n",
      "15-ten.ipynb\n",
      "_HEY\n",
      "facebook\n",
      "facebook.zip\n",
      "images\n"
     ]
    }
   ],
   "source": [
    "%%bash\n",
    "cd ..\n",
    "touch _HEY\n",
    "ls\n",
    "rm _HEY\n",
    "cd facebook"
   ]
  },
  {
   "cell_type": "code",
   "execution_count": 21,
   "metadata": {
    "collapsed": false
   },
   "outputs": [
    {
     "name": "stdout",
     "output_type": "stream",
     "text": [
      "Couldn't find program: u'ghci'\n"
     ]
    }
   ],
   "source": [
    "%%script ghci\n",
    "putStrLn \"Hello world!\""
   ]
  },
  {
   "cell_type": "code",
   "execution_count": 22,
   "metadata": {
    "collapsed": false
   },
   "outputs": [
    {
     "name": "stdout",
     "output_type": "stream",
     "text": [
      "Writing myfile.txt\n"
     ]
    }
   ],
   "source": [
    "%%writefile myfile.txt\n",
    "Hello world!"
   ]
  },
  {
   "cell_type": "code",
   "execution_count": 23,
   "metadata": {
    "collapsed": false
   },
   "outputs": [
    {
     "name": "stdout",
     "output_type": "stream",
     "text": [
      "Hello world!\r\n"
     ]
    }
   ],
   "source": [
    "!more myfile.txt"
   ]
  },
  {
   "cell_type": "code",
   "execution_count": 24,
   "metadata": {
    "collapsed": true
   },
   "outputs": [],
   "source": [
    "!rm myfile.txt"
   ]
  },
  {
   "cell_type": "markdown",
   "metadata": {},
   "source": [
    "### Mastering tab completion"
   ]
  },
  {
   "cell_type": "code",
   "execution_count": 25,
   "metadata": {
    "collapsed": false
   },
   "outputs": [
    {
     "name": "stdout",
     "output_type": "stream",
     "text": [
      "(bookmark:fbdata) -> /ipython/minibook-2nd-code/chapter1/facebook\n",
      "/ipython/minibook-2nd-code/chapter1/facebook\n",
      "0.circles    1684.circles  3437.circles  3980.circles  686.circles\r\n",
      "0.edges      1684.edges    3437.edges    3980.edges    686.edges\r\n",
      "107.circles  1912.circles  348.circles   414.circles   698.circles\r\n",
      "107.edges    1912.edges    348.edges     414.edges     698.edges\r\n"
     ]
    }
   ],
   "source": [
    "%cd fbdata\n",
    "%ls"
   ]
  },
  {
   "cell_type": "markdown",
   "metadata": {},
   "source": [
    "### Writing interactive documents in the Notebook with Markdown"
   ]
  },
  {
   "cell_type": "markdown",
   "metadata": {},
   "source": [
    "### Creating interactive widgets in the Notebook"
   ]
  },
  {
   "cell_type": "code",
   "execution_count": 26,
   "metadata": {
    "collapsed": false
   },
   "outputs": [
    {
     "data": {
      "image/jpeg": "[encoded data removed]",
      "text/html": [
       "\n",
       "        <iframe\n",
       "            width=\"400\"\n",
       "            height=\"300\"\n",
       "            src=\"https://www.youtube.com/embed/j9YpkSX7NNM\"\n",
       "            frameborder=\"0\"\n",
       "            allowfullscreen\n",
       "        ></iframe>\n",
       "        "
      ],
      "text/plain": [
       "<IPython.lib.display.YouTubeVideo at 0x7f4038100750>"
      ]
     },
     "execution_count": 26,
     "metadata": {},
     "output_type": "execute_result"
    }
   ],
   "source": [
    "from IPython.display import YouTubeVideo\n",
    "YouTubeVideo('j9YpkSX7NNM')"
   ]
  },
  {
   "cell_type": "code",
   "execution_count": 27,
   "metadata": {
    "collapsed": false
   },
   "outputs": [
    {
     "data": {
      "text/plain": [
       "'The square of 5 is 25.'"
      ]
     },
     "metadata": {},
     "output_type": "display_data"
    }
   ],
   "source": [
    "from ipywidgets import interact  # IPython.html.widgets before IPython 4.0\n",
    "@interact(x=(0, 10))\n",
    "def square(x):\n",
    "    return(\"The square of %d is %d.\" % (x, x**2))"
   ]
  },
  {
   "cell_type": "markdown",
   "metadata": {},
   "source": [
    "### Running Python scripts from IPython"
   ]
  },
  {
   "cell_type": "code",
   "execution_count": 28,
   "metadata": {
    "collapsed": false
   },
   "outputs": [
    {
     "name": "stdout",
     "output_type": "stream",
     "text": [
      "(bookmark:fbdata) -> /ipython/minibook-2nd-code/chapter1/facebook\n",
      "/ipython/minibook-2nd-code/chapter1/facebook\n",
      "/ipython/minibook-2nd-code/chapter1\n"
     ]
    }
   ],
   "source": [
    "%cd fbdata\n",
    "%cd .."
   ]
  },
  {
   "cell_type": "code",
   "execution_count": 29,
   "metadata": {
    "collapsed": false
   },
   "outputs": [
    {
     "name": "stdout",
     "output_type": "stream",
     "text": [
      "Writing egos.py\n"
     ]
    }
   ],
   "source": [
    "%%writefile egos.py\n",
    "import sys\n",
    "import os\n",
    "# We retrieve the folder as the first positional argument\n",
    "# to the command-line call\n",
    "if len(sys.argv) > 1:\n",
    "    folder = sys.argv[1]\n",
    "# We list all files in the specified folder\n",
    "files = os.listdir(folder)\n",
    "# ids contains the list of idenfitiers\n",
    "identifiers = [int(file.split('.')[0]) for file in files]\n",
    "# Finally, we remove duplicates with set(), and sort the list\n",
    "# with sorted().\n",
    "ids = sorted(set(identifiers))"
   ]
  },
  {
   "cell_type": "code",
   "execution_count": 32,
   "metadata": {
    "collapsed": true
   },
   "outputs": [],
   "source": [
    "%run egos.py facebook"
   ]
  },
  {
   "cell_type": "code",
   "execution_count": 33,
   "metadata": {
    "collapsed": false
   },
   "outputs": [
    {
     "data": {
      "text/plain": [
       "[0, 107, 348, 414, 686, 698, 1684, 1912, 3437, 3980]"
      ]
     },
     "execution_count": 33,
     "metadata": {},
     "output_type": "execute_result"
    }
   ],
   "source": [
    "ids"
   ]
  },
  {
   "cell_type": "code",
   "execution_count": 38,
   "metadata": {
    "collapsed": true
   },
   "outputs": [],
   "source": [
    "folder = 'facebook'"
   ]
  },
  {
   "cell_type": "code",
   "execution_count": 39,
   "metadata": {
    "collapsed": false
   },
   "outputs": [
    {
     "ename": "NameError",
     "evalue": "name 'folder' is not defined",
     "output_type": "error",
     "traceback": [
      "\u001b[0;31m---------------------------------------------------------------------------\u001b[0m",
      "\u001b[0;31mNameError\u001b[0m                                 Traceback (most recent call last)",
      "\u001b[0;32m/ipython/minibook-2nd-code/chapter1/egos.py\u001b[0m in \u001b[0;36m<module>\u001b[0;34m()\u001b[0m\n\u001b[1;32m      6\u001b[0m     \u001b[0mfolder\u001b[0m \u001b[0;34m=\u001b[0m \u001b[0msys\u001b[0m\u001b[0;34m.\u001b[0m\u001b[0margv\u001b[0m\u001b[0;34m[\u001b[0m\u001b[0;36m1\u001b[0m\u001b[0;34m]\u001b[0m\u001b[0;34m\u001b[0m\u001b[0m\n\u001b[1;32m      7\u001b[0m \u001b[0;31m# We list all files in the specified folder\u001b[0m\u001b[0;34m\u001b[0m\u001b[0;34m\u001b[0m\u001b[0m\n\u001b[0;32m----> 8\u001b[0;31m \u001b[0mfiles\u001b[0m \u001b[0;34m=\u001b[0m \u001b[0mos\u001b[0m\u001b[0;34m.\u001b[0m\u001b[0mlistdir\u001b[0m\u001b[0;34m(\u001b[0m\u001b[0mfolder\u001b[0m\u001b[0;34m)\u001b[0m\u001b[0;34m\u001b[0m\u001b[0m\n\u001b[0m\u001b[1;32m      9\u001b[0m \u001b[0;31m# ids contains the list of idenfitiers\u001b[0m\u001b[0;34m\u001b[0m\u001b[0;34m\u001b[0m\u001b[0m\n\u001b[1;32m     10\u001b[0m \u001b[0midentifiers\u001b[0m \u001b[0;34m=\u001b[0m \u001b[0;34m[\u001b[0m\u001b[0mint\u001b[0m\u001b[0;34m(\u001b[0m\u001b[0mfile\u001b[0m\u001b[0;34m.\u001b[0m\u001b[0msplit\u001b[0m\u001b[0;34m(\u001b[0m\u001b[0;34m'.'\u001b[0m\u001b[0;34m)\u001b[0m\u001b[0;34m[\u001b[0m\u001b[0;36m0\u001b[0m\u001b[0;34m]\u001b[0m\u001b[0;34m)\u001b[0m \u001b[0;32mfor\u001b[0m \u001b[0mfile\u001b[0m \u001b[0;32min\u001b[0m \u001b[0mfiles\u001b[0m\u001b[0;34m]\u001b[0m\u001b[0;34m\u001b[0m\u001b[0m\n",
      "\u001b[0;31mNameError\u001b[0m: name 'folder' is not defined"
     ]
    }
   ],
   "source": [
    "%run egos.py"
   ]
  },
  {
   "cell_type": "code",
   "execution_count": 40,
   "metadata": {
    "collapsed": true
   },
   "outputs": [],
   "source": [
    "%run -i egos.py"
   ]
  },
  {
   "cell_type": "code",
   "execution_count": 41,
   "metadata": {
    "collapsed": false
   },
   "outputs": [
    {
     "data": {
      "text/plain": [
       "[0, 107, 348, 414, 686, 698, 1684, 1912, 3437, 3980]"
      ]
     },
     "execution_count": 41,
     "metadata": {},
     "output_type": "execute_result"
    }
   ],
   "source": [
    "ids"
   ]
  },
  {
   "cell_type": "markdown",
   "metadata": {},
   "source": [
    "### Introspecting Python objects"
   ]
  },
  {
   "cell_type": "code",
   "execution_count": 42,
   "metadata": {
    "collapsed": true
   },
   "outputs": [],
   "source": [
    "import networkx"
   ]
  },
  {
   "cell_type": "code",
   "execution_count": 46,
   "metadata": {
    "collapsed": true
   },
   "outputs": [],
   "source": [
    "networkx.Graph?"
   ]
  },
  {
   "cell_type": "markdown",
   "metadata": {},
   "source": [
    "### Debugging Python code"
   ]
  },
  {
   "cell_type": "markdown",
   "metadata": {},
   "source": [
    "### Benchmarking Python code"
   ]
  },
  {
   "cell_type": "code",
   "execution_count": 47,
   "metadata": {
    "collapsed": false
   },
   "outputs": [
    {
     "name": "stdout",
     "output_type": "stream",
     "text": [
      "(bookmark:fbdata) -> /ipython/minibook-2nd-code/chapter1/facebook\n",
      "/ipython/minibook-2nd-code/chapter1/facebook\n"
     ]
    }
   ],
   "source": [
    "%cd fbdata"
   ]
  },
  {
   "cell_type": "code",
   "execution_count": 48,
   "metadata": {
    "collapsed": true
   },
   "outputs": [],
   "source": [
    "import networkx"
   ]
  },
  {
   "cell_type": "code",
   "execution_count": 49,
   "metadata": {
    "collapsed": true
   },
   "outputs": [],
   "source": [
    "graph = networkx.read_edgelist('107.edges')"
   ]
  },
  {
   "cell_type": "code",
   "execution_count": 51,
   "metadata": {
    "collapsed": false
   },
   "outputs": [
    {
     "data": {
      "text/plain": [
       "(1034, 26749)"
      ]
     },
     "execution_count": 51,
     "metadata": {},
     "output_type": "execute_result"
    }
   ],
   "source": [
    "len(graph.nodes()), len(graph.edges())"
   ]
  },
  {
   "cell_type": "code",
   "execution_count": 53,
   "metadata": {
    "collapsed": false
   },
   "outputs": [
    {
     "data": {
      "text/plain": [
       "[(u'1383', u'1594'),\n",
       " (u'1383', u'1157'),\n",
       " (u'1383', u'1909'),\n",
       " (u'1866', u'1165'),\n",
       " (u'1866', u'1085'),\n",
       " (u'1866', u'1307'),\n",
       " (u'1866', u'1325'),\n",
       " (u'1866', u'1088'),\n",
       " (u'1866', u'1421'),\n",
       " (u'1866', u'1588'),\n",
       " (u'1866', u'970'),\n",
       " (u'1866', u'1077'),\n",
       " (u'1866', u'1615'),\n",
       " (u'1866', u'1469'),\n",
       " (u'1866', u'1567'),\n",
       " (u'1866', u'1687'),\n",
       " (u'1866', u'1274'),\n",
       " (u'1866', u'1136'),\n",
       " (u'1866', u'1178'),\n",
       " (u'1866', u'1593'),\n",
       " (u'1866', u'1555'),\n",
       " (u'1866', u'1705'),\n",
       " (u'1866', u'1806'),\n",
       " (u'1866', u'1641'),\n",
       " (u'1866', u'1433'),\n",
       " (u'1866', u'1187'),\n",
       " (u'1866', u'908'),\n",
       " (u'1866', u'1847'),\n",
       " (u'1866', u'1518'),\n",
       " (u'1866', u'1360'),\n",
       " (u'1866', u'1410'),\n",
       " (u'1866', u'1511'),\n",
       " (u'1866', u'1803'),\n",
       " (u'1140', u'1317'),\n",
       " (u'1140', u'1173'),\n",
       " (u'1140', u'1098'),\n",
       " (u'1140', u'1534'),\n",
       " (u'1140', u'1450'),\n",
       " (u'1140', u'1505'),\n",
       " (u'1140', u'1666'),\n",
       " (u'1140', u'1656'),\n",
       " (u'1268', u'1814'),\n",
       " (u'1268', u'1210'),\n",
       " (u'1268', u'1343'),\n",
       " (u'1268', u'1200'),\n",
       " (u'1268', u'1202'),\n",
       " (u'1268', u'1876'),\n",
       " (u'1268', u'1531'),\n",
       " (u'1268', u'1910'),\n",
       " (u'1268', u'1529'),\n",
       " (u'1268', u'517'),\n",
       " (u'1524', u'1305'),\n",
       " (u'1524', u'1888'),\n",
       " (u'1524', u'1344'),\n",
       " (u'1524', u'1589'),\n",
       " (u'1524', u'1079'),\n",
       " (u'1524', u'1059'),\n",
       " (u'1524', u'1580'),\n",
       " (u'1524', u'1613'),\n",
       " (u'1524', u'1256'),\n",
       " (u'1524', u'1375'),\n",
       " (u'1524', u'1250'),\n",
       " (u'1524', u'1757'),\n",
       " (u'1524', u'1290'),\n",
       " (u'1524', u'916'),\n",
       " (u'1524', u'1752'),\n",
       " (u'1524', u'1390'),\n",
       " (u'1524', u'1278'),\n",
       " (u'1524', u'1796'),\n",
       " (u'1524', u'1153'),\n",
       " (u'1524', u'967'),\n",
       " (u'1524', u'1827'),\n",
       " (u'1524', u'1867'),\n",
       " (u'1524', u'1572'),\n",
       " (u'1524', u'1623'),\n",
       " (u'1524', u'1608'),\n",
       " (u'1524', u'1804'),\n",
       " (u'1524', u'1557'),\n",
       " (u'1524', u'1800'),\n",
       " (u'1524', u'1184'),\n",
       " (u'1524', u'1772'),\n",
       " (u'1524', u'1367'),\n",
       " (u'1524', u'1456'),\n",
       " (u'1524', u'1242'),\n",
       " (u'1524', u'1730'),\n",
       " (u'1524', u'1689'),\n",
       " (u'1524', u'1688'),\n",
       " (u'1524', u'1746'),\n",
       " (u'1524', u'1004'),\n",
       " (u'1524', u'925'),\n",
       " (u'1524', u'1416'),\n",
       " (u'1525', u'1166'),\n",
       " (u'1525', u'1221'),\n",
       " (u'1525', u'1781'),\n",
       " (u'1525', u'1783'),\n",
       " (u'1525', u'1785'),\n",
       " (u'1525', u'1876'),\n",
       " (u'1525', u'1482'),\n",
       " (u'1525', u'1897'),\n",
       " (u'1525', u'1217'),\n",
       " (u'1525', u'1630'),\n",
       " (u'1525', u'1051'),\n",
       " (u'1525', u'1052'),\n",
       " (u'1525', u'1634'),\n",
       " (u'1525', u'1770'),\n",
       " (u'1525', u'1427'),\n",
       " (u'1525', u'1541'),\n",
       " (u'1525', u'1703'),\n",
       " (u'1525', u'1260'),\n",
       " (u'1525', u'1070'),\n",
       " (u'1525', u'1549'),\n",
       " (u'1525', u'1569'),\n",
       " (u'1525', u'1500'),\n",
       " (u'1525', u'1299'),\n",
       " (u'1525', u'1472'),\n",
       " (u'1525', u'1504'),\n",
       " (u'1525', u'917'),\n",
       " (u'1525', u'1296'),\n",
       " (u'1525', u'1037'),\n",
       " (u'1525', u'1258'),\n",
       " (u'1525', u'1699'),\n",
       " (u'1525', u'994'),\n",
       " (u'1525', u'1343'),\n",
       " (u'1525', u'1159'),\n",
       " (u'1525', u'1338'),\n",
       " (u'1525', u'1334'),\n",
       " (u'1525', u'1275'),\n",
       " (u'1525', u'1355'),\n",
       " (u'1525', u'1152'),\n",
       " (u'1525', u'1306'),\n",
       " (u'1525', u'1010'),\n",
       " (u'1525', u'1496'),\n",
       " (u'1525', u'1418'),\n",
       " (u'1525', u'1681'),\n",
       " (u'1525', u'1807'),\n",
       " (u'1525', u'1435'),\n",
       " (u'1525', u'1709'),\n",
       " (u'1525', u'944'),\n",
       " (u'1525', u'1183'),\n",
       " (u'1525', u'1529'),\n",
       " (u'1525', u'1366'),\n",
       " (u'1525', u'1536'),\n",
       " (u'1525', u'1473'),\n",
       " (u'1525', u'1686'),\n",
       " (u'1525', u'1745'),\n",
       " (u'1525', u'1035'),\n",
       " (u'1525', u'924'),\n",
       " (u'1254', u'955'),\n",
       " (u'1254', u'1030'),\n",
       " (u'1254', u'1252'),\n",
       " (u'1254', u'1368'),\n",
       " (u'1254', u'1165'),\n",
       " (u'0', u'58'),\n",
       " (u'0', u'171'),\n",
       " (u'1527', u'960'),\n",
       " (u'1527', u'1056'),\n",
       " (u'1527', u'1642'),\n",
       " (u'1527', u'1852'),\n",
       " (u'1527', u'1173'),\n",
       " (u'1527', u'1911'),\n",
       " (u'1527', u'1409'),\n",
       " (u'1527', u'1519'),\n",
       " (u'1527', u'1674'),\n",
       " (u'1527', u'1476'),\n",
       " (u'1527', u'1670'),\n",
       " (u'1373', u'1166'),\n",
       " (u'1373', u'1204'),\n",
       " (u'1373', u'1261'),\n",
       " (u'1373', u'1783'),\n",
       " (u'1373', u'1661'),\n",
       " (u'1373', u'984'),\n",
       " (u'1373', u'1347'),\n",
       " (u'1373', u'1876'),\n",
       " (u'1373', u'1481'),\n",
       " (u'1373', u'919'),\n",
       " (u'1373', u'1873'),\n",
       " (u'1373', u'1686'),\n",
       " (u'1373', u'1894'),\n",
       " (u'1373', u'1907'),\n",
       " (u'1373', u'1309'),\n",
       " (u'1373', u'1893'),\n",
       " (u'1373', u'1454'),\n",
       " (u'1373', u'1018'),\n",
       " (u'1373', u'1366'),\n",
       " (u'1373', u'1812'),\n",
       " (u'1373', u'1638'),\n",
       " (u'1373', u'954'),\n",
       " (u'1373', u'1502'),\n",
       " (u'1373', u'1503'),\n",
       " (u'1373', u'1469'),\n",
       " (u'1373', u'1108'),\n",
       " (u'1373', u'1014'),\n",
       " (u'1373', u'1396'),\n",
       " (u'1373', u'917'),\n",
       " (u'1373', u'1245'),\n",
       " (u'1373', u'1451'),\n",
       " (u'1373', u'1235'),\n",
       " (u'1373', u'1338'),\n",
       " (u'1373', u'896'),\n",
       " (u'1373', u'1215'),\n",
       " (u'1373', u'898'),\n",
       " (u'1373', u'1273'),\n",
       " (u'1373', u'1099'),\n",
       " (u'1373', u'1794'),\n",
       " (u'1373', u'1871'),\n",
       " (u'1373', u'1573'),\n",
       " (u'1373', u'1596'),\n",
       " (u'1373', u'1591'),\n",
       " (u'1373', u'1495'),\n",
       " (u'1373', u'1786'),\n",
       " (u'1373', u'1152'),\n",
       " (u'1373', u'483'),\n",
       " (u'1373', u'1508'),\n",
       " (u'1373', u'1060'),\n",
       " (u'1373', u'964'),\n",
       " (u'1373', u'1703'),\n",
       " (u'1373', u'1281'),\n",
       " (u'1373', u'1020'),\n",
       " (u'1373', u'1706'),\n",
       " (u'1373', u'1282'),\n",
       " (u'1373', u'1824'),\n",
       " (u'1373', u'1729'),\n",
       " (u'1373', u'942'),\n",
       " (u'1373', u'1820'),\n",
       " (u'1373', u'1066'),\n",
       " (u'1373', u'1241'),\n",
       " (u'1373', u'1582'),\n",
       " (u'1373', u'1104'),\n",
       " (u'1373', u'1102'),\n",
       " (u'1373', u'1749'),\n",
       " (u'1373', u'1727'),\n",
       " (u'1373', u'1515'),\n",
       " (u'1373', u'1742'),\n",
       " (u'1373', u'1828'),\n",
       " (u'1373', u'1459'),\n",
       " (u'1373', u'1382'),\n",
       " (u'1373', u'1032'),\n",
       " (u'919', u'1303'),\n",
       " (u'919', u'1261'),\n",
       " (u'919', u'1783'),\n",
       " (u'919', u'1786'),\n",
       " (u'919', u'1871'),\n",
       " (u'919', u'1582'),\n",
       " (u'919', u'1732'),\n",
       " (u'919', u'1032'),\n",
       " (u'919', u'1396'),\n",
       " (u'919', u'917'),\n",
       " (u'919', u'1751'),\n",
       " (u'919', u'898'),\n",
       " (u'919', u'1099'),\n",
       " (u'919', u'1277'),\n",
       " (u'919', u'1245'),\n",
       " (u'919', u'1495'),\n",
       " (u'919', u'483'),\n",
       " (u'919', u'900'),\n",
       " (u'919', u'1020'),\n",
       " (u'919', u'1729'),\n",
       " (u'919', u'1824'),\n",
       " (u'919', u'942'),\n",
       " (u'919', u'1820'),\n",
       " (u'919', u'1066'),\n",
       " (u'919', u'1102'),\n",
       " (u'919', u'1742'),\n",
       " (u'919', u'1661'),\n",
       " (u'992', u'1784'),\n",
       " (u'992', u'1787'),\n",
       " (u'992', u'1097'),\n",
       " (u'992', u'1895'),\n",
       " (u'992', u'1568'),\n",
       " (u'992', u'1798'),\n",
       " (u'992', u'1424'),\n",
       " (u'992', u'1733'),\n",
       " (u'992', u'1548'),\n",
       " (u'992', u'1371'),\n",
       " (u'992', u'938'),\n",
       " (u'992', u'1468'),\n",
       " (u'992', u'1378'),\n",
       " (u'992', u'917'),\n",
       " (u'992', u'1880'),\n",
       " (u'992', u'1314'),\n",
       " (u'992', u'1216'),\n",
       " (u'992', u'1333'),\n",
       " (u'992', u'1118'),\n",
       " (u'992', u'1837'),\n",
       " (u'992', u'903'),\n",
       " (u'992', u'901'),\n",
       " (u'992', u'963'),\n",
       " (u'992', u'1601'),\n",
       " (u'992', u'1629'),\n",
       " (u'992', u'1648'),\n",
       " (u'992', u'1533'),\n",
       " (u'992', u'1363'),\n",
       " (u'992', u'1452'),\n",
       " (u'992', u'1747'),\n",
       " (u'348', u'376'),\n",
       " (u'348', u'1025'),\n",
       " (u'348', u'563'),\n",
       " (u'348', u'566'),\n",
       " (u'348', u'414'),\n",
       " (u'348', u'428'),\n",
       " (u'348', u'526'),\n",
       " (u'348', u'353'),\n",
       " (u'348', u'475'),\n",
       " (u'348', u'366'),\n",
       " (u'348', u'420'),\n",
       " (u'348', u'389'),\n",
       " (u'348', u'484'),\n",
       " (u'348', u'483'),\n",
       " (u'348', u'363'),\n",
       " (u'348', u'517'),\n",
       " (u'348', u'538'),\n",
       " (u'1148', u'1322'),\n",
       " (u'1148', u'1227'),\n",
       " (u'1148', u'1438'),\n",
       " (u'1148', u'1082'),\n",
       " (u'1148', u'596'),\n",
       " (u'1148', u'1462'),\n",
       " (u'1148', u'1345'),\n",
       " (u'1148', u'1347'),\n",
       " (u'1148', u'1899'),\n",
       " (u'1148', u'1459'),\n",
       " (u'1148', u'1907'),\n",
       " (u'1148', u'1859'),\n",
       " (u'1148', u'1423'),\n",
       " (u'1148', u'1716'),\n",
       " (u'1148', u'1636'),\n",
       " (u'1148', u'1426'),\n",
       " (u'1148', u'1404'),\n",
       " (u'1148', u'1583'),\n",
       " (u'1148', u'1192'),\n",
       " (u'1148', u'1067'),\n",
       " (u'1148', u'957'),\n",
       " (u'1148', u'1611'),\n",
       " (u'1148', u'1257'),\n",
       " (u'1148', u'1115'),\n",
       " (u'1148', u'1587'),\n",
       " (u'1148', u'1691'),\n",
       " (u'1148', u'1379'),\n",
       " (u'1148', u'1018'),\n",
       " (u'1148', u'1036'),\n",
       " (u'1148', u'1655'),\n",
       " (u'1148', u'1279'),\n",
       " (u'1148', u'1315'),\n",
       " (u'1148', u'1231'),\n",
       " (u'1148', u'896'),\n",
       " (u'1148', u'637'),\n",
       " (u'1148', u'1190'),\n",
       " (u'1148', u'1277'),\n",
       " (u'1148', u'1292'),\n",
       " (u'1148', u'1492'),\n",
       " (u'1148', u'1596'),\n",
       " (u'1148', u'1591'),\n",
       " (u'1148', u'1884'),\n",
       " (u'1148', u'483'),\n",
       " (u'1148', u'902'),\n",
       " (u'1148', u'1284'),\n",
       " (u'1148', u'1647'),\n",
       " (u'1148', u'1413'),\n",
       " (u'1148', u'1715'),\n",
       " (u'1148', u'1060'),\n",
       " (u'1148', u'1235'),\n",
       " (u'1148', u'1628'),\n",
       " (u'1148', u'942'),\n",
       " (u'1148', u'1820'),\n",
       " (u'1148', u'1720'),\n",
       " (u'1148', u'1066'),\n",
       " (u'1148', u'1454'),\n",
       " (u'1148', u'1104'),\n",
       " (u'1148', u'1682'),\n",
       " (u'1148', u'1009'),\n",
       " (u'1148', u'1475'),\n",
       " (u'1148', u'1573'),\n",
       " (u'1148', u'1841'),\n",
       " (u'1148', u'1479'),\n",
       " (u'1148', u'1576'),\n",
       " (u'1253', u'1202'),\n",
       " (u'1253', u'1071'),\n",
       " (u'1799', u'1305'),\n",
       " (u'1799', u'1269'),\n",
       " (u'1799', u'1146'),\n",
       " (u'1799', u'1302'),\n",
       " (u'1799', u'1789'),\n",
       " (u'1799', u'1782'),\n",
       " (u'1799', u'1149'),\n",
       " (u'1799', u'1267'),\n",
       " (u'1799', u'1819'),\n",
       " (u'1799', u'1833'),\n",
       " (u'1799', u'1836'),\n",
       " (u'1799', u'1078'),\n",
       " (u'1799', u'1835'),\n",
       " (u'1799', u'1076'),\n",
       " (u'1799', u'1250'),\n",
       " (u'1799', u'1839'),\n",
       " (u'1799', u'966'),\n",
       " (u'1799', u'1375'),\n",
       " (u'1799', u'1377'),\n",
       " (u'1799', u'1376'),\n",
       " (u'1799', u'1467'),\n",
       " (u'1799', u'934'),\n",
       " (u'1799', u'1399'),\n",
       " (u'1799', u'993'),\n",
       " (u'1799', u'1156'),\n",
       " (u'1799', u'999'),\n",
       " (u'1799', u'1796'),\n",
       " (u'1799', u'1795'),\n",
       " (u'1799', u'1491'),\n",
       " (u'1799', u'916'),\n",
       " (u'1799', u'1554'),\n",
       " (u'1799', u'1557'),\n",
       " (u'1799', u'1707'),\n",
       " (u'1799', u'1559'),\n",
       " (u'1799', u'1827'),\n",
       " (u'1799', u'1826'),\n",
       " (u'1799', u'1823'),\n",
       " (u'1799', u'1669'),\n",
       " (u'1799', u'1668'),\n",
       " (u'1799', u'1665'),\n",
       " (u'1799', u'1663'),\n",
       " (u'1799', u'1662'),\n",
       " (u'1799', u'1416'),\n",
       " (u'1799', u'927'),\n",
       " (u'1799', u'1128'),\n",
       " (u'1799', u'1323'),\n",
       " (u'1799', u'1083'),\n",
       " (u'1799', u'1123'),\n",
       " (u'1799', u'1124'),\n",
       " (u'1799', u'1125'),\n",
       " (u'1799', u'1126'),\n",
       " (u'1799', u'1485'),\n",
       " (u'1799', u'1717'),\n",
       " (u'1799', u'1714'),\n",
       " (u'1799', u'1255'),\n",
       " (u'1799', u'1520'),\n",
       " (u'1799', u'1522'),\n",
       " (u'1799', u'1398'),\n",
       " (u'1799', u'1653'),\n",
       " (u'1799', u'1017'),\n",
       " (u'1799', u'1391'),\n",
       " (u'1799', u'1390'),\n",
       " (u'1799', u'1339'),\n",
       " (u'1799', u'1768'),\n",
       " (u'1799', u'1774'),\n",
       " (u'1799', u'1335'),\n",
       " (u'1799', u'1132'),\n",
       " (u'1799', u'1130'),\n",
       " (u'1799', u'1849'),\n",
       " (u'1799', u'1643'),\n",
       " (u'1799', u'1431'),\n",
       " (u'1799', u'1845'),\n",
       " (u'1799', u'1721'),\n",
       " (u'1799', u'1243'),\n",
       " (u'1799', u'1006'),\n",
       " (u'1799', u'1004'),\n",
       " (u'1799', u'1003'),\n",
       " (u'1799', u'1538'),\n",
       " (u'1799', u'1329'),\n",
       " (u'1799', u'1086'),\n",
       " (u'1799', u'1340'),\n",
       " (u'1799', u'1341'),\n",
       " (u'1799', u'1344'),\n",
       " (u'1799', u'1471'),\n",
       " (u'1799', u'1877'),\n",
       " (u'1799', u'1737'),\n",
       " (u'1799', u'1879'),\n",
       " (u'1799', u'1420'),\n",
       " (u'1799', u'1632'),\n",
       " (u'1799', u'1589'),\n",
       " (u'1799', u'1730'),\n",
       " (u'1799', u'1735'),\n",
       " (u'1799', u'1584'),\n",
       " (u'1799', u'1736'),\n",
       " (u'1799', u'1509'),\n",
       " (u'1799', u'1211'),\n",
       " (u'1799', u'1352'),\n",
       " (u'1799', u'1351'),\n",
       " (u'1799', u'1597'),\n",
       " (u'1799', u'1867'),\n",
       " (u'1799', u'1623'),\n",
       " (u'1799', u'1622'),\n",
       " (u'1799', u'1621'),\n",
       " (u'1799', u'960'),\n",
       " (u'1799', u'1184'),\n",
       " (u'1799', u'1185'),\n",
       " (u'1799', u'1028'),\n",
       " (u'1799', u'1181'),\n",
       " (u'1799', u'1107'),\n",
       " (u'1799', u'1101'),\n",
       " (u'1799', u'925'),\n",
       " (u'1799', u'1746'),\n",
       " (u'1799', u'1516'),\n",
       " (u'1799', u'1365'),\n",
       " (u'1799', u'1199'),\n",
       " (u'1799', u'1198'),\n",
       " (u'1799', u'1816'),\n",
       " (u'1799', u'1810'),\n",
       " (u'1799', u'1813'),\n",
       " (u'1799', u'1059'),\n",
       " (u'1799', u'1614'),\n",
       " (u'1799', u'952'),\n",
       " (u'1799', u'1612'),\n",
       " (u'1799', u'1613'),\n",
       " (u'1799', u'1610'),\n",
       " (u'1799', u'1196'),\n",
       " (u'1799', u'1112'),\n",
       " (u'1799', u'1757'),\n",
       " (u'1799', u'1563'),\n",
       " (u'1799', u'1753'),\n",
       " (u'1799', u'1752'),\n",
       " (u'1799', u'1449'),\n",
       " (u'1799', u'1750'),\n",
       " (u'1799', u'897'),\n",
       " (u'1799', u'1272'),\n",
       " (u'1799', u'1888'),\n",
       " (u'1799', u'1886'),\n",
       " (u'1799', u'1287'),\n",
       " (u'1799', u'1804'),\n",
       " (u'1799', u'1800'),\n",
       " (u'1799', u'946'),\n",
       " (u'1799', u'947'),\n",
       " (u'1799', u'1603'),\n",
       " (u'1799', u'1367'),\n",
       " (u'1799', u'1683'),\n",
       " (u'1799', u'1769'),\n",
       " (u'1799', u'1685'),\n",
       " (u'1799', u'1617'),\n",
       " (u'1799', u'1689'),\n",
       " (u'1799', u'1572'),\n",
       " (u'1799', u'1761'),\n",
       " (u'1260', u'1304'),\n",
       " (u'1260', u'1225'),\n",
       " (u'1260', u'1167'),\n",
       " (u'1260', u'1308'),\n",
       " (u'1260', u'1139'),\n",
       " (u'1260', u'1876'),\n",
       " (u'1260', u'977'),\n",
       " (u'1260', u'1815'),\n",
       " (u'1260', u'1052'),\n",
       " (u'1260', u'1633'),\n",
       " (u'1260', u'1634'),\n",
       " (u'1260', u'1070'),\n",
       " (u'1260', u'1299'),\n",
       " (u'1260', u'1469'),\n",
       " (u'1260', u'1472'),\n",
       " (u'1260', u'1504'),\n",
       " (u'1260', u'917'),\n",
       " (u'1260', u'1011'),\n",
       " (u'1260', u'1258'),\n",
       " (u'1260', u'1259'),\n",
       " (u'1260', u'1630'),\n",
       " (u'1260', u'1236'),\n",
       " (u'1260', u'1159'),\n",
       " (u'1260', u'1338'),\n",
       " (u'1260', u'1051'),\n",
       " (u'1260', u'1131'),\n",
       " (u'1260', u'1275'),\n",
       " (u'1260', u'1355'),\n",
       " (u'1260', u'1703'),\n",
       " (u'1260', u'1188'),\n",
       " (u'1260', u'1709'),\n",
       " (u'1260', u'944'),\n",
       " (u'1260', u'1725'),\n",
       " (u'1260', u'1366'),\n",
       " (u'1260', u'1686'),\n",
       " (u'1260', u'924'),\n",
       " (u'1250', u'1789'),\n",
       " (u'1250', u'1146'),\n",
       " (u'1250', u'1149'),\n",
       " (u'1250', u'1613'),\n",
       " (u'1250', u'1547'),\n",
       " (u'1250', u'1771'),\n",
       " (u'1250', u'1078'),\n",
       " (u'1250', u'1079'),\n",
       " (u'1250', u'1076'),\n",
       " (u'1250', u'1075'),\n",
       " (u'1250', u'1741'),\n",
       " (u'1250', u'1659'),\n",
       " (u'1250', u'1375'),\n",
       " (u'1250', u'1376'),\n",
       " (u'1250', u'1399'),\n",
       " (u'1250', u'1092'),\n",
       " (u'1250', u'1793'),\n",
       " (u'1250', u'1796'),\n",
       " (u'1250', u'1795'),\n",
       " (u'1250', u'1491'),\n",
       " (u'1250', u'1620'),\n",
       " (u'1250', u'1653'),\n",
       " (u'1250', u'1017'),\n",
       " (u'1250', u'1554'),\n",
       " (u'1250', u'1557'),\n",
       " (u'1250', u'1707'),\n",
       " (u'1250', u'1559'),\n",
       " (u'1250', u'1827'),\n",
       " (u'1250', u'1380'),\n",
       " (u'1250', u'1662'),\n",
       " (u'1250', u'1416'),\n",
       " (u'1250', u'1086'),\n",
       " (u'1250', u'1126'),\n",
       " (u'1250', u'1488'),\n",
       " (u'1250', u'1712'),\n",
       " (u'1250', u'1717'),\n",
       " (u'1250', u'1714'),\n",
       " (u'1250', u'1256'),\n",
       " (u'1250', u'526'),\n",
       " (u'1250', u'1255'),\n",
       " (u'1250', u'1522'),\n",
       " (u'1250', u'1652'),\n",
       " (u'1250', u'1402'),\n",
       " (u'1250', u'916'),\n",
       " (u'1250', u'1390'),\n",
       " (u'1250', u'1339'),\n",
       " (u'1250', u'1768'),\n",
       " (u'1250', u'1833'),\n",
       " (u'1250', u'1335'),\n",
       " (u'1250', u'1238'),\n",
       " (u'1250', u'1330'),\n",
       " (u'1250', u'1644'),\n",
       " (u'1250', u'1849'),\n",
       " (u'1250', u'1435'),\n",
       " (u'1250', u'906'),\n",
       " (u'1250', u'1431'),\n",
       " (u'1250', u'1663'),\n",
       " (u'1250', u'1724'),\n",
       " (u'1250', u'1721'),\n",
       " (u'1250', u'1242'),\n",
       " (u'1250', u'1532'),\n",
       " (u'1250', u'1530'),\n",
       " (u'1250', u'1004'),\n",
       " (u'1250', u'1003'),\n",
       " (u'1250', u'1839'),\n",
       " (u'1250', u'1340'),\n",
       " (u'1250', u'1341'),\n",
       " (u'1250', u'1344'),\n",
       " (u'1250', u'925'),\n",
       " (u'1250', u'1877'),\n",
       " (u'1250', u'1737'),\n",
       " (u'1250', u'1026'),\n",
       " (u'1250', u'1902'),\n",
       " (u'1250', u'1879'),\n",
       " (u'1250', u'1420'),\n",
       " (u'1250', u'1632'),\n",
       " (u'1250', u'1589'),\n",
       " (u'1250', u'1730'),\n",
       " (u'1250', u'1584'),\n",
       " (u'1250', u'1736'),\n",
       " (u'1250', u'1211'),\n",
       " (u'1250', u'1352'),\n",
       " (u'1250', u'1861'),\n",
       " (u'1250', u'1597'),\n",
       " (u'1250', u'1867'),\n",
       " (u'1250', u'1623'),\n",
       " (u'1250', u'1622'),\n",
       " (u'1250', u'967'),\n",
       " (u'1250', u'1184'),\n",
       " (u'1250', u'1185'),\n",
       " (u'1250', u'1181'),\n",
       " (u'1250', u'1456'),\n",
       " (u'1250', u'947'),\n",
       " (u'1250', u'1746'),\n",
       " (u'1250', u'1603'),\n",
       " (u'1250', u'1209'),\n",
       " (u'1250', u'1205'),\n",
       " (u'1250', u'1199'),\n",
       " (u'1250', u'1198'),\n",
       " (u'1250', u'1816'),\n",
       " (u'1250', u'1810'),\n",
       " (u'1250', u'1619'),\n",
       " (u'1250', u'1059'),\n",
       " (u'1250', u'952'),\n",
       " (u'1250', u'1612'),\n",
       " (u'1250', u'1819'),\n",
       " (u'1250', u'1610'),\n",
       " (u'1250', u'1110'),\n",
       " (u'1250', u'1112'),\n",
       " (u'1250', u'1757'),\n",
       " (u'1250', u'1293'),\n",
       " (u'1250', u'1754'),\n",
       " (u'1250', u'1752'),\n",
       " (u'1250', u'1750'),\n",
       " (u'1250', u'1278'),\n",
       " (u'1250', u'1271'),\n",
       " (u'1250', u'1688'),\n",
       " (u'1250', u'1888'),\n",
       " (u'1250', u'1054'),\n",
       " (u'1250', u'1608'),\n",
       " (u'1250', u'1287'),\n",
       " (u'1250', u'1804'),\n",
       " (u'1250', u'1800'),\n",
       " (u'1250', u'946'),\n",
       " (u'1250', u'1600'),\n",
       " (u'1250', u'1049'),\n",
       " (u'1250', u'1288'),\n",
       " (u'1250', u'1367'),\n",
       " (u'1250', u'1683'),\n",
       " (u'1250', u'1685'),\n",
       " (u'1250', u'1617'),\n",
       " (u'1250', u'1689'),\n",
       " (u'1250', u'1572'),\n",
       " (u'1250', u'1765'),\n",
       " (u'965', u'1304'),\n",
       " (u'965', u'1225'),\n",
       " (u'965', u'1703'),\n",
       " (u'965', u'1634'),\n",
       " (u'965', u'1188'),\n",
       " (u'965', u'944'),\n",
       " (u'965', u'986'),\n",
       " (u'965', u'1052'),\n",
       " (u'965', u'1070'),\n",
       " (u'965', u'1275'),\n",
       " (u'965', u'1536'),\n",
       " (u'965', u'1500'),\n",
       " (u'965', u'1299'),\n",
       " (u'965', u'1686'),\n",
       " (u'965', u'917'),\n",
       " (u'1793', u'1146'),\n",
       " (u'1793', u'1267'),\n",
       " (u'1793', u'1833'),\n",
       " (u'1793', u'1542'),\n",
       " (u'1793', u'1078'),\n",
       " (u'1793', u'1835'),\n",
       " (u'1793', u'1074'),\n",
       " (u'1793', u'1839'),\n",
       " (u'1793', u'1370'),\n",
       " (u'1793', u'1377'),\n",
       " (u'1793', u'1376'),\n",
       " (u'1793', u'934'),\n",
       " (u'1793', u'997'),\n",
       " (u'1793', u'1312'),\n",
       " (u'1793', u'993'),\n",
       " (u'1793', u'1079'),\n",
       " (u'1793', u'1791'),\n",
       " (u'1793', u'966'),\n",
       " (u'1793', u'1153'),\n",
       " (u'1793', u'1491'),\n",
       " (u'1793', u'1334'),\n",
       " (u'1793', u'1554'),\n",
       " (u'1793', u'1551'),\n",
       " (u'1793', u'1068'),\n",
       " (u'1793', u'1563'),\n",
       " (u'1793', u'916'),\n",
       " (u'1793', u'1557'),\n",
       " (u'1793', u'1707'),\n",
       " (u'1793', u'1559'),\n",
       " (u'1793', u'1827'),\n",
       " (u'1793', u'1823'),\n",
       " (u'1793', u'1388'),\n",
       " (u'1793', u'1669'),\n",
       " (u'1793', u'1668'),\n",
       " (u'1793', u'921'),\n",
       " (u'1793', u'1665'),\n",
       " (u'1793', u'1663'),\n",
       " (u'1793', u'925'),\n",
       " (u'1793', u'1128'),\n",
       " (u'1793', u'983'),\n",
       " (u'1793', u'980'),\n",
       " (u'1793', u'1124'),\n",
       " (u'1793', u'1125'),\n",
       " (u'1793', u'1126'),\n",
       " (u'1793', u'1483'),\n",
       " (u'1793', u'1488'),\n",
       " (u'1793', u'1712'),\n",
       " (u'1793', u'1714'),\n",
       " (u'1793', u'1520'),\n",
       " (u'1793', u'1399'),\n",
       " (u'1793', u'1132'),\n",
       " (u'1793', u'1017'),\n",
       " (u'1793', u'1393'),\n",
       " (u'1793', u'1391'),\n",
       " (u'1793', u'1390'),\n",
       " (u'1793', u'1230'),\n",
       " (u'1793', u'1547'),\n",
       " (u'1793', u'1335'),\n",
       " (u'1793', u'1331'),\n",
       " (u'1793', u'1238'),\n",
       " (u'1793', u'1437'),\n",
       " (u'1793', u'1431'),\n",
       " (u'1793', u'1842'),\n",
       " (u'1793', u'1772'),\n",
       " (u'1793', u'1723'),\n",
       " (u'1793', u'1845'),\n",
       " (u'1793', u'1617'),\n",
       " (u'1793', u'1535'),\n",
       " (u'1793', u'1530'),\n",
       " (u'1793', u'1006'),\n",
       " (u'1793', u'1538'),\n",
       " (u'1793', u'1222'),\n",
       " (u'1793', u'1736'),\n",
       " (u'1793', u'1879'),\n",
       " (u'1793', u'1589'),\n",
       " (u'1793', u'1730'),\n",
       " (u'1793', u'1580'),\n",
       " (u'1793', u'1584'),\n",
       " (u'1793', u'978'),\n",
       " (u'1793', u'1285'),\n",
       " (u'1793', u'1359'),\n",
       " (u'1793', u'1211'),\n",
       " (u'1793', u'1214'),\n",
       " (u'1793', u'1644'),\n",
       " (u'1793', u'1352'),\n",
       " (u'1793', u'1351'),\n",
       " (u'1793', u'1219'),\n",
       " (u'1793', u'1040'),\n",
       " (u'1793', u'1590'),\n",
       " (u'1793', u'1867'),\n",
       " (u'1793', u'1868'),\n",
       " (u'1793', u'1598'),\n",
       " (u'1793', u'1622'),\n",
       " (u'1793', u'1621'),\n",
       " (u'1793', u'1026'),\n",
       " (u'1793', u'960'),\n",
       " (u'1793', u'1184'),\n",
       " (u'1793', u'1180'),\n",
       " (u'1793', u'1181'),\n",
       " (u'1793', u'1107'),\n",
       " (u'1793', u'1456'),\n",
       " (u'1793', u'1101'),\n",
       " (u'1793', u'1746'),\n",
       " (u'1793', u'1516'),\n",
       " (u'1793', u'1160'),\n",
       " (u'1793', u'1205'),\n",
       " (u'1793', u'1199'),\n",
       " (u'1793', u'1816'),\n",
       " (u'1793', u'1810'),\n",
       " (u'1793', u'1056'),\n",
       " (u'1793', u'1619'),\n",
       " (u'1793', u'1059'),\n",
       " (u'1793', u'953'),\n",
       " (u'1793', u'952'),\n",
       " (u'1793', u'1613'),\n",
       " (u'1793', u'1610'),\n",
       " (u'1793', u'1447'),\n",
       " (u'1793', u'1117'),\n",
       " (u'1793', u'1757'),\n",
       " (u'1793', u'1290'),\n",
       " (u'1793', u'1291'),\n",
       " (u'1793', u'1750'),\n",
       " (u'1793', u'1173'),\n",
       " (u'1793', u'1172'),\n",
       " (u'1793', u'1271'),\n",
       " (u'1793', u'1272'),\n",
       " (u'1793', u'1796'),\n",
       " (u'1793', u'1888'),\n",
       " (u'1793', u'1609'),\n",
       " (u'1793', u'1804'),\n",
       " (u'1793', u'1280'),\n",
       " (u'1793', u'1800'),\n",
       " (u'1793', u'946'),\n",
       " (u'1793', u'1603'),\n",
       " (u'1793', u'1604'),\n",
       " (u'1793', u'1809'),\n",
       " (u'1793', u'1367'),\n",
       " (u'1793', u'1768'),\n",
       " (u'1793', u'1471'),\n",
       " (u'1793', u'1361'),\n",
       " (u'1793', u'1689'),\n",
       " (u'1793', u'1571'),\n",
       " (u'1793', u'1864'),\n",
       " (u'1792', u'920'),\n",
       " (u'1792', u'1860'),\n",
       " (u'1792', u'1450'),\n",
       " (u'1792', u'1477'),\n",
       " (u'1792', u'1666'),\n",
       " (u'1791', u'1146'),\n",
       " (u'1791', u'1302'),\n",
       " (u'1791', u'1149'),\n",
       " (u'1791', u'1267'),\n",
       " (u'1791', u'1613'),\n",
       " (u'1791', u'1833'),\n",
       " (u'1791', u'1078'),\n",
       " (u'1791', u'1079'),\n",
       " (u'1791', u'1075'),\n",
       " (u'1791', u'526'),\n",
       " (u'1791', u'1377'),\n",
       " (u'1791', u'1376'),\n",
       " (u'1791', u'1467'),\n",
       " (u'1791', u'934'),\n",
       " (u'1791', u'997'),\n",
       " (u'1791', u'1399'),\n",
       " (u'1791', u'993'),\n",
       " (u'1791', u'1491'),\n",
       " (u'1791', u'967'),\n",
       " (u'1791', u'1551'),\n",
       " (u'1791', u'1553'),\n",
       " (u'1791', u'1554'),\n",
       " (u'1791', u'1557'),\n",
       " (u'1791', u'1707'),\n",
       " (u'1791', u'1559'),\n",
       " (u'1791', u'1827'),\n",
       " (u'1791', u'1826'),\n",
       " (u'1791', u'1823'),\n",
       " (u'1791', u'1669'),\n",
       " (u'1791', u'1668'),\n",
       " (u'1791', u'1665'),\n",
       " (u'1791', u'1663'),\n",
       " (u'1791', u'1416'),\n",
       " (u'1791', u'927'),\n",
       " (u'1791', u'1323'),\n",
       " (u'1791', u'983'),\n",
       " (u'1791', u'1329'),\n",
       " (u'1791', u'1712'),\n",
       " (u'1791', u'1714'),\n",
       " (u'1791', u'1851'),\n",
       " (u'1791', u'1256'),\n",
       " (u'1791', u'1409'),\n",
       " (u'1791', u'1255'),\n",
       " (u'1791', u'1520'),\n",
       " (u'1791', u'1522'),\n",
       " (u'1791', u'1402'),\n",
       " (u'1791', u'916'),\n",
       " (u'1791', u'1528'),\n",
       " (u'1791', u'1391'),\n",
       " (u'1791', u'1390'),\n",
       " (u'1791', u'1772'),\n",
       " (u'1791', u'1238'),\n",
       " (u'1791', u'1330'),\n",
       " (u'1791', u'1849'),\n",
       " (u'1791', u'1643'),\n",
       " (u'1791', u'1431'),\n",
       " (u'1791', u'1842'),\n",
       " (u'1791', u'1835'),\n",
       " (u'1791', u'1723'),\n",
       " (u'1791', u'1721'),\n",
       " (u'1791', u'1470'),\n",
       " (u'1791', u'1243'),\n",
       " (u'1791', u'1730'),\n",
       " (u'1791', u'1006'),\n",
       " (u'1791', u'1539'),\n",
       " (u'1791', u'1839'),\n",
       " (u'1791', u'978'),\n",
       " (u'1791', u'1902'),\n",
       " (u'1791', u'1637'),\n",
       " (u'1791', u'1639'),\n",
       " (u'1791', u'1580'),\n",
       " (u'1791', u'1584'),\n",
       " (u'1791', u'1736'),\n",
       " (u'1791', u'1509'),\n",
       " (u'1791', u'1359'),\n",
       " (u'1791', u'1214'),\n",
       " (u'1791', u'1352'),\n",
       " (u'1791', u'1861'),\n",
       " (u'1791', u'1597'),\n",
       " (u'1791', u'1864'),\n",
       " (u'1791', u'1868'),\n",
       " (u'1791', u'1622'),\n",
       " (u'1791', u'1621'),\n",
       " (u'1791', u'1620'),\n",
       " (u'1791', u'1185'),\n",
       " (u'1791', u'1107'),\n",
       " (u'1791', u'1101'),\n",
       " (u'1791', u'1516'),\n",
       " (u'1791', u'1513'),\n",
       " (u'1791', u'1209'),\n",
       " (u'1791', u'1163'),\n",
       " (u'1791', u'1205'),\n",
       " (u'1791', u'1898'),\n",
       " (u'1791', u'1199'),\n",
       " (u'1791', u'1056'),\n",
       " (u'1791', u'1813'),\n",
       " (u'1791', u'1191'),\n",
       " (u'1791', u'1617'),\n",
       " (u'1791', u'953'),\n",
       " (u'1791', u'952'),\n",
       " (u'1791', u'1612'),\n",
       " (u'1791', u'1683'),\n",
       " (u'1791', u'1110'),\n",
       " (u'1791', u'1117'),\n",
       " (u'1791', u'1757'),\n",
       " (u'1791', u'1290'),\n",
       " (u'1791', u'1291'),\n",
       " (u'1791', u'1750'),\n",
       " (u'1791', u'1173'),\n",
       " (u'1791', u'1172'),\n",
       " (u'1791', u'897'),\n",
       " (u'1791', u'1276'),\n",
       " (u'1791', u'1888'),\n",
       " (u'1791', u'1609'),\n",
       " (u'1791', u'1804'),\n",
       " (u'1791', u'1280'),\n",
       " (u'1791', u'1800'),\n",
       " (u'1791', u'946'),\n",
       " (u'1791', u'1600'),\n",
       " (u'1791', u'1603'),\n",
       " (u'1791', u'1048'),\n",
       " (u'1791', u'1289'),\n",
       " (u'1791', u'1604'),\n",
       " (u'1791', u'1367'),\n",
       " (u'1791', u'1768'),\n",
       " (u'1791', u'1361'),\n",
       " (u'1791', u'1688'),\n",
       " (u'1791', u'1761'),\n",
       " (u'1791', u'1765'),\n",
       " (u'1523', u'1683'),\n",
       " (u'1523', u'1075'),\n",
       " (u'1523', u'1146'),\n",
       " (u'1523', u'1327'),\n",
       " (u'1523', u'1780'),\n",
       " (u'1523', u'1283'),\n",
       " (u'1523', u'1126'),\n",
       " (u'1523', u'1723'),\n",
       " (u'1523', u'1877'),\n",
       " (u'1523', u'1750'),\n",
       " ...]"
      ]
     },
     "execution_count": 53,
     "metadata": {},
     "output_type": "execute_result"
    }
   ],
   "source": [
    "graph.edges()"
   ]
  },
  {
   "cell_type": "code",
   "execution_count": 55,
   "metadata": {
    "collapsed": false
   },
   "outputs": [
    {
     "data": {
      "text/plain": [
       "True"
      ]
     },
     "execution_count": 55,
     "metadata": {},
     "output_type": "execute_result"
    }
   ],
   "source": [
    "networkx.is_connected(graph)"
   ]
  },
  {
   "cell_type": "code",
   "execution_count": 43,
   "metadata": {
    "collapsed": false
   },
   "outputs": [
    {
     "data": {
      "text/plain": [
       "100 loops, best of 3: 5.92 ms per loop"
      ]
     },
     "execution_count": 43,
     "metadata": {},
     "output_type": "execute_result"
    }
   ],
   "source": [
    "%timeit networkx.is_connected(graph)"
   ]
  },
  {
   "cell_type": "markdown",
   "metadata": {},
   "source": [
    "### Profiling Python code"
   ]
  },
  {
   "cell_type": "code",
   "execution_count": 44,
   "metadata": {
    "collapsed": true
   },
   "outputs": [],
   "source": [
    "import networkx"
   ]
  },
  {
   "cell_type": "code",
   "execution_count": 45,
   "metadata": {
    "collapsed": true
   },
   "outputs": [],
   "source": [
    "def ncomponents(file):\n",
    "    graph = networkx.read_edgelist(file)\n",
    "    return networkx.number_connected_components(graph)"
   ]
  },
  {
   "cell_type": "code",
   "execution_count": 46,
   "metadata": {
    "collapsed": true
   },
   "outputs": [],
   "source": [
    "import glob\n",
    "def ncomponents_files():\n",
    "    return [(file, ncomponents(file))\n",
    "            for file in sorted(glob.glob('*.edges'))]"
   ]
  },
  {
   "cell_type": "code",
   "execution_count": 47,
   "metadata": {
    "collapsed": false
   },
   "outputs": [
    {
     "data": {
      "text/plain": [
       "0.edges      5 component(s)\n",
       "107.edges    1 component(s)\n",
       "1684.edges   4 component(s)\n",
       "1912.edges   2 component(s)\n",
       "3437.edges   2 component(s)\n",
       "348.edges    1 component(s)\n",
       "3980.edges   4 component(s)\n",
       "414.edges    2 component(s)\n",
       "686.edges    1 component(s)\n",
       "698.edges    3 component(s)"
      ]
     },
     "execution_count": 47,
     "metadata": {},
     "output_type": "execute_result"
    }
   ],
   "source": [
    "for file, n in ncomponents_files():\n",
    "    print(file.ljust(12), n, 'component(s)')"
   ]
  },
  {
   "cell_type": "code",
   "execution_count": 48,
   "metadata": {
    "collapsed": false
   },
   "outputs": [
    {
     "data": {
      "text/plain": [
       "1 loops, best of 3: 634 ms per loop"
      ]
     },
     "execution_count": 48,
     "metadata": {},
     "output_type": "execute_result"
    }
   ],
   "source": [
    "%timeit ncomponents_files()"
   ]
  },
  {
   "cell_type": "code",
   "execution_count": 49,
   "metadata": {
    "collapsed": false
   },
   "outputs": [
    {
     "data": {
      "text/plain": [
       "2391070 function calls in 1.038 seconds\n",
       "\n",
       "Ordered by: cumulative time\n",
       "\n",
       "ncalls  tottime  percall  cumtime  percall filename:lineno(function)\n",
       "     1    0.000    0.000    1.038    1.038 {built-in method exec}\n",
       "     1    0.000    0.000    1.038    1.038 <string>:1(<module>)\n",
       "    10    0.000    0.000    0.995    0.100 <string>:1(read_edgelist)\n",
       "    10    0.000    0.000    0.995    0.100 decorators.py:155(_open_file)\n",
       "    10    0.376    0.038    0.995    0.099 edgelist.py:174(parse_edgelist)\n",
       "170174    0.279    0.000    0.350    0.000 graph.py:648(add_edge)\n",
       "170184    0.059    0.000    0.095    0.000 edgelist.py:366(<genexpr>)\n",
       "    10    0.000    0.000    0.021    0.002 connected.py:98(number_connected_components)\n",
       "    35    0.001    0.000    0.021    0.001 connected.py:22(connected_components)"
      ]
     },
     "execution_count": 49,
     "metadata": {},
     "output_type": "execute_result"
    }
   ],
   "source": [
    "%prun -s cumtime ncomponents_files()"
   ]
  }
 ],
 "metadata": {
  "kernelspec": {
   "display_name": "Python [default]",
   "language": "python",
   "name": "python2"
  },
  "language_info": {
   "codemirror_mode": {
    "name": "ipython",
    "version": 2
   },
   "file_extension": ".py",
   "mimetype": "text/x-python",
   "name": "python",
   "nbconvert_exporter": "python",
   "pygments_lexer": "ipython2",
   "version": "2.7.12"
  },
  "widgets": {
   "state": {
    "3c5149dfff3b495bb68c5ac60446a0c2": {
     "views": [
      {
       "cell_index": 32
      }
     ]
    }
   },
   "version": "1.2.0"
  }
 },
 "nbformat": 4,
 "nbformat_minor": 0
}
